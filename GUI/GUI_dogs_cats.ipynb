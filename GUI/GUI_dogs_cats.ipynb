{
 "cells": [
  {
   "cell_type": "code",
   "execution_count": 1,
   "metadata": {},
   "outputs": [],
   "source": [
    "import tkinter as tk\n",
    "from tkinter import filedialog\n",
    "from PIL import Image, ImageTk\n",
    "import cv2 as cv\n",
    "import numpy as np\n",
    "import tensorflow as tf\n"
   ]
  },
  {
   "cell_type": "code",
   "execution_count": 2,
   "metadata": {},
   "outputs": [],
   "source": [
    "# Define the crop_image function\n",
    "def crop_image(image):\n",
    "    image = cv.cvtColor(image, cv.COLOR_BGR2RGB)\n",
    "    image = cv.resize(image,(224,224))\n",
    "    crop_img_r = image / 255\n",
    " \n",
    "    return crop_img_r\n",
    "\n"
   ]
  },
  {
   "cell_type": "code",
   "execution_count": 3,
   "metadata": {},
   "outputs": [
    {
     "name": "stderr",
     "output_type": "stream",
     "text": [
      "WARNING:absl:Compiled the loaded model, but the compiled metrics have yet to be built. `model.compile_metrics` will be empty until you train or evaluate the model.\n"
     ]
    }
   ],
   "source": [
    "# Load the trained model\n",
    "model = tf.keras.models.load_model('transfar_learning_mobile_net_1_97.h5')"
   ]
  },
  {
   "cell_type": "code",
   "execution_count": 4,
   "metadata": {},
   "outputs": [],
   "source": [
    "# Function to preprocess and predict\n",
    "def preprocess_and_predict(image_path):\n",
    "    image = cv.imread(image_path)\n",
    "    preprocessed_image = crop_image(image)\n",
    "    preprocessed_image = np.expand_dims(preprocessed_image, axis=0)  # Add batch dimension\n",
    "    prediction = model.predict(preprocessed_image)\n",
    "    return prediction"
   ]
  },
  {
   "cell_type": "code",
   "execution_count": 5,
   "metadata": {},
   "outputs": [],
   "source": [
    "# Function to display an image in the GUI\n",
    "def display_image(image_path, row, col, label_text, label_color):\n",
    "    img = Image.open(image_path)\n",
    "    img = img.resize((224, 224))\n",
    "    img = ImageTk.PhotoImage(img)\n",
    "    panel = tk.Label(root, image=img)\n",
    "    panel.image = img\n",
    "    panel.grid(row=row+1, column=col, padx=10, pady=10)\n",
    "    \n",
    "    label = tk.Label(root, text=label_text, fg=label_color)\n",
    "    label.grid(row=row, column=col)"
   ]
  },
  {
   "cell_type": "code",
   "execution_count": 6,
   "metadata": {},
   "outputs": [],
   "source": [
    "# Function to handle file selection\n",
    "def upload_image():\n",
    "    file_path = filedialog.askopenfilename()\n",
    "    if file_path:\n",
    "        display_image(file_path, row=2, col=1, label_text=\"Uploaded Image\", label_color=\"black\")\n",
    "        prediction = preprocess_and_predict(file_path)\n",
    "        display_prediction(prediction)"
   ]
  },
  {
   "cell_type": "code",
   "execution_count": 7,
   "metadata": {},
   "outputs": [],
   "source": [
    "\n",
    "# # Function to display the prediction creatively\n",
    "# def display_prediction(prediction):\n",
    "#     class_names = ['Benign', 'Malignant']  # Update with actual class names\n",
    "#     if len(prediction.shape) == 2:  # Model output is 2D (e.g., probabilities for multiple classes)\n",
    "#         predicted_class = np.argmax(prediction)\n",
    "#         confidence = prediction[0][predicted_class]\n",
    "#     elif len(prediction.shape) == 1:  # Model output is 1D (e.g., single class score)\n",
    "#         predicted_class = np.argmax(prediction)\n",
    "#         confidence = prediction[predicted_class]\n",
    "#     else:\n",
    "#         predicted_class = None\n",
    "#         confidence = None\n",
    "    \n",
    "#     if predicted_class is not None and confidence is not None:\n",
    "#         result_text = f\"Prediction: {class_names[predicted_class]}\\nConfidence: {confidence:.2f}\"\n",
    "#     else:\n",
    "#         result_text = \"Error: Unable to process prediction.\"\n",
    "\n",
    "#     result_label.config(text=result_text)\n",
    "    \n",
    "#     plt.figure(figsize=(5, 5))\n",
    "#     plt.title(f\"Prediction: {class_names[predicted_class] if predicted_class is not None else 'Unknown'}\")\n",
    "#     plt.imshow(np.random.random((224, 224, 3)))  # Creative display with random colors\n",
    "#     plt.show()"
   ]
  },
  {
   "cell_type": "code",
   "execution_count": 8,
   "metadata": {},
   "outputs": [],
   "source": [
    "def display_prediction(prediction):\n",
    "    class_names = ['Cat', 'Dog']  # Update with actual class names\n",
    "    predicted_class = np.argmax(prediction)\n",
    "    confidence = prediction[0][predicted_class]\n",
    "    \n",
    "    result_text = f\"Prediction: {class_names[predicted_class]}\\nConfidence score: {confidence*100:.2f}%\"\n",
    "    result_label.config(text=result_text)"
   ]
  },
  {
   "cell_type": "code",
   "execution_count": 9,
   "metadata": {},
   "outputs": [
    {
     "name": "stdout",
     "output_type": "stream",
     "text": [
      "\u001b[1m1/1\u001b[0m \u001b[32m━━━━━━━━━━━━━━━━━━━━\u001b[0m\u001b[37m\u001b[0m \u001b[1m1s\u001b[0m 761ms/step\n",
      "\u001b[1m1/1\u001b[0m \u001b[32m━━━━━━━━━━━━━━━━━━━━\u001b[0m\u001b[37m\u001b[0m \u001b[1m0s\u001b[0m 35ms/step\n",
      "\u001b[1m1/1\u001b[0m \u001b[32m━━━━━━━━━━━━━━━━━━━━\u001b[0m\u001b[37m\u001b[0m \u001b[1m0s\u001b[0m 35ms/step\n",
      "\u001b[1m1/1\u001b[0m \u001b[32m━━━━━━━━━━━━━━━━━━━━\u001b[0m\u001b[37m\u001b[0m \u001b[1m0s\u001b[0m 40ms/step\n",
      "\u001b[1m1/1\u001b[0m \u001b[32m━━━━━━━━━━━━━━━━━━━━\u001b[0m\u001b[37m\u001b[0m \u001b[1m0s\u001b[0m 30ms/step\n"
     ]
    }
   ],
   "source": [
    "# Create GUI\n",
    "root = tk.Tk()\n",
    "root.title(\"Dogs&Cats\")\n",
    "\n",
    "# Set the title with color\n",
    "title_label = tk.Label(root, text=\"Cats and Dogs Classification using Transfer Learning(Mobile-Net)\", font=(\"Helvetica\", 20), fg=\"red\")\n",
    "title_label.grid(row=0, column=0, columnspan=3, pady=10)\n",
    "\n",
    "# Display positive and negative example images\n",
    "dog_img_path = \"dog.jpeg\"\n",
    "cat_img_path = \"cat.jpeg\"\n",
    "\n",
    "\n",
    "\n",
    "display_image(dog_img_path, row=1, col=0, label_text=\"Dog\", label_color=\"red\")\n",
    "display_image(cat_img_path, row=1, col=2, label_text=\"Cat\", label_color=\"green\")\n",
    "\n",
    "# Add upload button\n",
    "upload_button = tk.Button(root, text=\"Upload Image\", command=upload_image)\n",
    "upload_button.grid(row=1, column=1, pady=10)\n",
    "\n",
    "# Label to display the prediction result\n",
    "result_label = tk.Label(root, text=\"\", font=(\"Helvetica\", 16))\n",
    "result_label.grid(row=4, column=0, columnspan=3, pady=10)\n",
    "\n",
    "root.mainloop()\n"
   ]
  },
  {
   "cell_type": "code",
   "execution_count": null,
   "metadata": {},
   "outputs": [],
   "source": [
    "\n"
   ]
  }
 ],
 "metadata": {
  "kernelspec": {
   "display_name": "Python 3",
   "language": "python",
   "name": "python3"
  },
  "language_info": {
   "codemirror_mode": {
    "name": "ipython",
    "version": 3
   },
   "file_extension": ".py",
   "mimetype": "text/x-python",
   "name": "python",
   "nbconvert_exporter": "python",
   "pygments_lexer": "ipython3",
   "version": "3.9.13"
  }
 },
 "nbformat": 4,
 "nbformat_minor": 2
}
